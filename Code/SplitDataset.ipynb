{
 "cells": [
  {
   "cell_type": "code",
   "execution_count": 14,
   "metadata": {},
   "outputs": [],
   "source": [
    "# GPT Code\n",
    "\n",
    "# Importing necessary libraries\n",
    "import pandas as pd\n",
    "from sklearn.model_selection import train_test_split\n",
    "\n",
    "# Reading the data from the file\n",
    "file_path = '../Data/adjudicated.txt'\n",
    "with open(file_path, 'r', encoding='utf-8') as file:\n",
    "    data = file.readlines()"
   ]
  },
  {
   "cell_type": "code",
   "execution_count": 15,
   "metadata": {},
   "outputs": [
    {
     "data": {
      "text/plain": [
       "('../Data/train.txt', '../Data/dev.txt', '../Data/test.txt')"
      ]
     },
     "execution_count": 15,
     "metadata": {},
     "output_type": "execute_result"
    }
   ],
   "source": [
    "# Shuffling and splitting the data\n",
    "train, temp = train_test_split(data, test_size=0.4, random_state=42)  # 60% for training, 40% remains\n",
    "dev, test = train_test_split(temp, test_size=0.5, random_state=42)  # Splitting the remaining 40% into 20% dev, 20% test\n",
    "\n",
    "# Saving the splits to respective files\n",
    "train_path = '../Data/train.txt'\n",
    "dev_path = '../Data/dev.txt'\n",
    "test_path = '../Data/test.txt'\n",
    "\n",
    "with open(train_path, 'w', encoding='utf-8') as file:\n",
    "    file.writelines(train)\n",
    "\n",
    "with open(dev_path, 'w', encoding='utf-8') as file:\n",
    "    file.writelines(dev)\n",
    "\n",
    "with open(test_path, 'w', encoding='utf-8') as file:\n",
    "    file.writelines(test)\n",
    "\n",
    "train_path, dev_path, test_path"
   ]
  },
  {
   "cell_type": "code",
   "execution_count": 13,
   "metadata": {},
   "outputs": [
    {
     "data": {
      "text/plain": [
       "100"
      ]
     },
     "execution_count": 13,
     "metadata": {},
     "output_type": "execute_result"
    }
   ],
   "source": [
    "len(dev)"
   ]
  },
  {
   "cell_type": "code",
   "execution_count": null,
   "metadata": {},
   "outputs": [],
   "source": []
  }
 ],
 "metadata": {
  "kernelspec": {
   "display_name": "Python 3.9.12 ('base')",
   "language": "python",
   "name": "python3"
  },
  "language_info": {
   "codemirror_mode": {
    "name": "ipython",
    "version": 3
   },
   "file_extension": ".py",
   "mimetype": "text/x-python",
   "name": "python",
   "nbconvert_exporter": "python",
   "pygments_lexer": "ipython3",
   "version": "3.9.12"
  },
  "orig_nbformat": 4,
  "vscode": {
   "interpreter": {
    "hash": "162b6b064e165ad366d1bd4cdc631c4691b039cb551eb2d47403b16e997dbe09"
   }
  }
 },
 "nbformat": 4,
 "nbformat_minor": 2
}
